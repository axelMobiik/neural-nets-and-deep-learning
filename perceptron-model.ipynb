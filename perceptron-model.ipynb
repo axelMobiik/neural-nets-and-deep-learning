{
 "cells": [
  {
   "cell_type": "markdown",
   "id": "186a4f91-fa0e-4327-845d-c35770e3bf05",
   "metadata": {},
   "source": [
    "<h1>Perceptron Model</h1>\n",
    "<p>\n",
    "    To begin understanding deep learning, we will build up our model abstractions:\n",
    "    <li>Single Biological Neuron</li>\n",
    "    <li>Perceptron</li>\n",
    "    <li>Multi-layer Perceptron Model</li>\n",
    "    <li>Deep Learning Neural Network</li>\n",
    "</p>\n",
    "<p>\n",
    "    As we learn about more complex models, we'll also introduce concepts, such as:\n",
    "    <li>Activation Functions</li>\n",
    "    <li>Gardient Descent</li>\n",
    "    <li>BackPropagation</li>\n",
    "</p>\n",
    "<p>\n",
    "    If the whole idea behind deep learning is to have computers artificially mimic biological natural intelligence, we should probably build a general understanding of how biological neurons work!\n",
    "    <br>A perceptron was form of neural network introduced in 1958 by Frank Rosenblatt.\n",
    "    <br>Amazingly, even back then he saw huge potencial:\n",
    "    <li>\"... perceptron may eventually be able to learn, make decisions, and translate languages.\"</li>\n",
    "    However, in 1969 Marvin Minsky and Seaymour Papert's published their book <strong>Perceptrons</strong>.\n",
    "    <br>It suggested that there were severe limitations to what perceptrons could do.\n",
    "    <br>This marked the beginning of what is known as the AI Winter, with little funding into AI and Neural Networks in the 1070's\n",
    "    <br>Fortunately for us, we now know the amazing power of neural networks, which all stem from the simple perceptron model, so let's head back and convert our simple biological neuron model into the perceptron model.\n",
    "</p>\n",
    "<p>\n",
    "    We've been able to model a biological neuron as a simple perceptron!\n",
    "    <br>Later on we will see how we can expand this model to have X be a <strong>tensor</strong> of information (an n-dimensional matrix).\n",
    "</p>\n",
    "<p>\n",
    "    Let's review what we learned:\n",
    "    <li>We understand the very basics of a biological neuron</li>\n",
    "    <li>We saw how we can create a simple perceptron model replicating the core concepts behind a neuron</li>\n",
    "</p>"
   ]
  },
  {
   "cell_type": "code",
   "execution_count": null,
   "id": "94e97abf-125b-434b-959f-7cea3789271b",
   "metadata": {},
   "outputs": [],
   "source": []
  }
 ],
 "metadata": {
  "kernelspec": {
   "display_name": "Python 3 (ipykernel)",
   "language": "python",
   "name": "python3"
  },
  "language_info": {
   "codemirror_mode": {
    "name": "ipython",
    "version": 3
   },
   "file_extension": ".py",
   "mimetype": "text/x-python",
   "name": "python",
   "nbconvert_exporter": "python",
   "pygments_lexer": "ipython3",
   "version": "3.11.7"
  }
 },
 "nbformat": 4,
 "nbformat_minor": 5
}
