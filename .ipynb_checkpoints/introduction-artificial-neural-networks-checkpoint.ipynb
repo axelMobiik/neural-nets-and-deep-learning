{
 "cells": [
  {
   "cell_type": "markdown",
   "id": "fd15d1e0-90dd-4889-9a4c-fee64d5c68db",
   "metadata": {},
   "source": [
    "<h1>Understanding Artificial Neural Networks</h1>\n",
    "<p>\n",
    "    A large part of this section will focus on theory behind many of the ideas we will implement with code\n",
    "    <br>Let's do a quick review of how we will gradually build an understanding of artificial neural networks\n",
    "</p>\n",
    "<p>\n",
    "    Theory Topics:\n",
    "    <li>Perceptron Model to Neural Networks</li>\n",
    "    <li>Activation Functions</li>\n",
    "    <li>Cost Functions</li>\n",
    "    <li>Feed Forward Networks</li>\n",
    "    <li>BackPropagation</li>\n",
    "</p>\n",
    "<p>\n",
    "    Codign Topics:\n",
    "    <li>TensorFlow 2.0 Keras Syntax</li>\n",
    "    <li>ANN with Keras</li>\n",
    "    <li>> Regression</li>\n",
    "    <li>> Classification</li>\n",
    "    <li>Exercises for Keras ANN</li>\n",
    "    <li>Tensorboard Visualizations</li>\n",
    "</p>"
   ]
  },
  {
   "cell_type": "code",
   "execution_count": null,
   "id": "98048e36-b1e9-4a32-97f2-a7c7c5d64d07",
   "metadata": {},
   "outputs": [],
   "source": []
  }
 ],
 "metadata": {
  "kernelspec": {
   "display_name": "Python 3 (ipykernel)",
   "language": "python",
   "name": "python3"
  },
  "language_info": {
   "codemirror_mode": {
    "name": "ipython",
    "version": 3
   },
   "file_extension": ".py",
   "mimetype": "text/x-python",
   "name": "python",
   "nbconvert_exporter": "python",
   "pygments_lexer": "ipython3",
   "version": "3.11.7"
  }
 },
 "nbformat": 4,
 "nbformat_minor": 5
}
