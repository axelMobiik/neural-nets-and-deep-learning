{
 "cells": [
  {
   "cell_type": "markdown",
   "id": "d559781e-a37e-4d82-94ed-bf166d18e9f3",
   "metadata": {},
   "source": [
    "<h1>TensorFlow and Keras</h1>\n",
    "<p>\n",
    "    Before we begin learning how to code our own neural networks, let's quickly clarify the differences between TensorFlow and Keras!\n",
    "</p>\n",
    "<p>\n",
    "    TensorFlow:\n",
    "    <br>Is an open-source deep learning library developed by Google, with TF 2.0 being oddicially released in late 2019.\n",
    "    <br>Has a large ecosystem of related components, including libraries like Tensorboard, Deployment and Production APIs, and support for various programming languages.\n",
    "</p>\n",
    "<p>\n",
    "    Keras:\n",
    "    <br>Is a high-level python library that can use variety of deep learning libraries underneath, such as: TensorFlow, CNTK, or Theano.\n",
    "</p>\n",
    "<p>\n",
    "    TensorFlow 1.x has a complex python class system for building models, and due to the huge popularity of Keras, when TF 2.0 was released, TF adopted Keras as the official API for TF.\n",
    "    <br>While Keras still also remains as a separate library from Tensorflow, it can also now officially be imported through TF, so there is now need to additionally install it.\n",
    "    <br>The Keras API is easy to use and builds models by simply adding layers on top of each other through simple calls.\n",
    "    <br>Let's now explore the basics of the Keras API for TensorFlow!\n",
    "</p>"
   ]
  },
  {
   "cell_type": "code",
   "execution_count": null,
   "id": "367c6fdc-a52a-41c0-9855-c6bd7de021fd",
   "metadata": {},
   "outputs": [],
   "source": []
  }
 ],
 "metadata": {
  "kernelspec": {
   "display_name": "Python 3 (ipykernel)",
   "language": "python",
   "name": "python3"
  },
  "language_info": {
   "codemirror_mode": {
    "name": "ipython",
    "version": 3
   },
   "file_extension": ".py",
   "mimetype": "text/x-python",
   "name": "python",
   "nbconvert_exporter": "python",
   "pygments_lexer": "ipython3",
   "version": "3.11.7"
  }
 },
 "nbformat": 4,
 "nbformat_minor": 5
}
